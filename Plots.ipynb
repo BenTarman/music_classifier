{
 "cells": [
  {
   "cell_type": "markdown",
   "metadata": {},
   "source": [
    "<h1> Analysis</h1>\n",
    "Within this notebook, several plots are created, running various value pairs against each other."
   ]
  },
  {
   "cell_type": "code",
   "execution_count": null,
   "metadata": {},
   "outputs": [],
   "source": [
    "import pandas as pd\n",
    "import numpy as np\n",
    "%matplotlib inline\n",
    "import matplotlib.pyplot as plt\n",
    "from sklearn import neighbors, linear_model\n",
    "from sklearn.model_selection import cross_val_score, KFold, StratifiedKFold, train_test_split\n",
    "from sklearn.metrics import confusion_matrix, f1_score, classification_report, make_scorer\n",
    "from sklearn.preprocessing import PolynomialFeatures\n",
    "\n",
    "\n",
    "\n",
    "data = pd.read_csv('data.csv')\n",
    "song_names = data['song name']\n",
    "song_names\n",
    "data = data.drop(columns=['song name'])\n"
   ]
  },
  {
   "cell_type": "code",
   "execution_count": null,
   "metadata": {},
   "outputs": [],
   "source": [
    "cos = ['zero crossing rate','chroma','spectral centroid','spectral bandwidth']\n",
    "genres = ['westcoastrap','edm','jazz','alternative','classical']\n",
    "for x in cos:\n",
    "    for y in cos:\n",
    "        if cos.index(x)<cos.index(y):\n",
    "            for g in genres:\n",
    "                plt.plot(data[data['genre']==g][x], data[data['genre']==g][y], marker='o', linestyle='', ms=5, label=g)\n",
    "            plt.legend();\n",
    "            plt.xlabel('mean '+x);\n",
    "            plt.ylabel('mean '+y);\n",
    "            plt.show()\n"
   ]
  },
  {
   "cell_type": "code",
   "execution_count": null,
   "metadata": {},
   "outputs": [],
   "source": []
  }
 ],
 "metadata": {
  "kernelspec": {
   "display_name": "Python 3",
   "language": "python",
   "name": "python3"
  },
  "language_info": {
   "codemirror_mode": {
    "name": "ipython",
    "version": 3
   },
   "file_extension": ".py",
   "mimetype": "text/x-python",
   "name": "python",
   "nbconvert_exporter": "python",
   "pygments_lexer": "ipython3",
   "version": "3.6.5"
  }
 },
 "nbformat": 4,
 "nbformat_minor": 2
}
