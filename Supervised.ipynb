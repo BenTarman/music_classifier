{
 "cells": [
  {
   "cell_type": "code",
   "execution_count": null,
   "metadata": {},
   "outputs": [],
   "source": [
    "import pandas as pd\n",
    "import numpy as np\n",
    "%matplotlib inline\n",
    "import matplotlib.pyplot as plt\n",
    "from sklearn import neighbors, linear_model\n",
    "from sklearn.model_selection import cross_val_predict, KFold, StratifiedKFold, train_test_split\n",
    "from sklearn.metrics import confusion_matrix, f1_score, classification_report, make_scorer\n",
    "from sklearn.preprocessing import PolynomialFeatures\n",
    "\n",
    "\n",
    "\n",
    "data = pd.read_csv('data.csv')\n",
    "song_names = data['song name']\n",
    "song_names\n",
    "data = data.drop(columns=['song name'])\n"
   ]
  },
  {
   "cell_type": "markdown",
   "metadata": {},
   "source": [
    "<h1>Setting up </h1>"
   ]
  },
  {
   "cell_type": "code",
   "execution_count": null,
   "metadata": {},
   "outputs": [],
   "source": [
    "#data2 = data[data.genre != 'westcoastrap']\n",
    "msfcc_names = []\n",
    "for i in range(1, 21):\n",
    "    msfcc_names.append('mfcc{0}'.format(i))\n",
    "X = data[['zero crossing rate', 'spectral bandwidth', 'spectral centroid', 'chroma'] + msfcc_names]"
   ]
  },
  {
   "cell_type": "code",
   "execution_count": null,
   "metadata": {},
   "outputs": [],
   "source": [
    "genre_dict = {'alternative': 0, 'westcoastrap': 1,'edm': 2, 'jazz': 3, 'classical': 4} \n",
    "Y = [genre_dict[item] for item in data['genre']]"
   ]
  },
  {
   "cell_type": "markdown",
   "metadata": {},
   "source": [
    "<h2>KNN-analysis</h2>"
   ]
  },
  {
   "cell_type": "code",
   "execution_count": null,
   "metadata": {},
   "outputs": [],
   "source": [
    "for k in range(1,11):\n",
    "    model = neighbors.KNeighborsClassifier(k)\n",
    "    yhat= cross_val_predict(model,X,Y, cv = StratifiedKFold(5, True))\n",
    "    label_ord = range(5)\n",
    "    Titanic_Conf_matrix = confusion_matrix(yhat,Y, labels=label_ord)\n",
    "    print(f\"{k}-nearest neighbor accuracy:{np.trace(Titanic_Conf_matrix)/np.sum(Titanic_Conf_matrix)}\")\n",
    "    print(Titanic_Conf_matrix)"
   ]
  },
  {
   "cell_type": "markdown",
   "metadata": {},
   "source": [
    "<h3>KDTree</h3>"
   ]
  },
  {
   "cell_type": "code",
   "execution_count": null,
   "metadata": {},
   "outputs": [],
   "source": [
    "\n",
    "#this code prints cluters of all songs that are similar\n",
    "from sklearn.neighbors import KDTree\n",
    "\n",
    "arr = np.array(X)\n",
    "\n",
    "tree = KDTree(arr, leaf_size=4)\n",
    "\n",
    "# r = 1.5 (means radius 1.5)\n",
    "all_nn_indices  = tree.query_radius(arr, r=150)\n",
    "\n",
    "all_nns = [[song_names[idx] for idx in nn_indices] for nn_indices in all_nn_indices]\n",
    "for nns in all_nns:\n",
    "    print(nns)"
   ]
  },
  {
   "cell_type": "markdown",
   "metadata": {},
   "source": [
    "<h2>Logistic Regression</h2>\n",
    "\n",
    "This performs logistic regression with a number of different feature counts, cross validated with 5-fold CV.\n",
    "\n",
    "Adding more dimensions did not produce significant results, but it was significantly better than K-Nearest Neighbors."
   ]
  },
  {
   "cell_type": "code",
   "execution_count": null,
   "metadata": {},
   "outputs": [],
   "source": [
    "#logistic regression testing\n",
    "for pval in range(1,4):\n",
    "    model = linear_model.LogisticRegression()\n",
    "    pf = PolynomialFeatures(degree = pval)\n",
    "    pf.fit(X)\n",
    "    yhat = cross_val_predict(model, pf.transform(X), Y, cv = StratifiedKFold(5,True))\n",
    "    \n",
    "    Titanic_Conf_matrix = confusion_matrix(yhat,Y)\n",
    "    print(f\"{pval}-degree poly logistic regression accuracy:{np.trace(Titanic_Conf_matrix)/np.sum(Titanic_Conf_matrix)}\")\n",
    "    print(Titanic_Conf_matrix)"
   ]
  },
  {
   "cell_type": "markdown",
   "metadata": {},
   "source": [
    "<h2>Experimentation on percentage of each type each song was</h2>\n",
    "\n",
    "As one of the main goals of this was to be able to predict the genre of a song given a database, we perform leave-one-out cross-validation with logistic regression on the values we have."
   ]
  },
  {
   "cell_type": "code",
   "execution_count": null,
   "metadata": {},
   "outputs": [],
   "source": [
    "print('perc_alt', 'perc_classical', 'perc_edm', 'perc_jazz', 'perc_rap')\n",
    "def abx(Z,x):\n",
    "    return np.append(Z[:x],Z[x+1:],axis=0)\n",
    "pf = PolynomialFeatures(degree=1)\n",
    "pf.fit(X)\n",
    "phi = pf.transform(X)\n",
    "score = 0\n",
    "for idx in range(np.shape(phi)[0]):\n",
    "    \n",
    "    model = linear_model.LogisticRegression()\n",
    "    # To test things, we fit on everything else\n",
    "    model.fit(abx(phi,idx),abx(Y,idx))\n",
    "    predicted_scores = model.predict_proba(phi[idx:idx+1])[0]\n",
    "    # normalize percentages\n",
    "    perc_alt = \"%.6f\" % ((predicted_scores[0] / sum(predicted_scores)) * 100)\n",
    "    perc_rap = \"%.6f\" % ((predicted_scores[1] / sum(predicted_scores)) * 100)\n",
    "    perc_edm = \"%.6f\" % ((predicted_scores[2] / sum(predicted_scores)) * 100)\n",
    "    perc_jazz = \"%.6f\" % ((predicted_scores[3] / sum(predicted_scores)) * 100)\n",
    "    perc_classical = \"%.6f\" % ((predicted_scores[4] / sum(predicted_scores)) * 100)\n",
    "    score += predicted_scores[Y[idx]]\n",
    "    print(song_names[idx])\n",
    "    print(perc_alt, '    ', perc_classical, '       ', perc_edm, '    ', perc_jazz, '    ', perc_rap)\n",
    "#order: 'alt', 'classical', 'edm', 'jazz'\n",
    "print(f\"overall score: {score/np.shape(X)[0]}\")"
   ]
  },
  {
   "cell_type": "code",
   "execution_count": null,
   "metadata": {},
   "outputs": [],
   "source": []
  },
  {
   "cell_type": "code",
   "execution_count": null,
   "metadata": {},
   "outputs": [],
   "source": []
  }
 ],
 "metadata": {
  "kernelspec": {
   "display_name": "Python 3",
   "language": "python",
   "name": "python3"
  },
  "language_info": {
   "codemirror_mode": {
    "name": "ipython",
    "version": 3
   },
   "file_extension": ".py",
   "mimetype": "text/x-python",
   "name": "python",
   "nbconvert_exporter": "python",
   "pygments_lexer": "ipython3",
   "version": "3.6.5"
  }
 },
 "nbformat": 4,
 "nbformat_minor": 2
}
