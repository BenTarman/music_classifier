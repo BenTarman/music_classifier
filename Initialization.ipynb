{
 "cells": [
  {
   "cell_type": "markdown",
   "metadata": {},
   "source": [
    "<h2>This is code that was used to extract the features we were interested in</h2>"
   ]
  },
  {
   "cell_type": "code",
   "execution_count": null,
   "metadata": {},
   "outputs": [],
   "source": [
    "import numpy as np\n",
    "\n",
    "import librosa\n",
    "\n",
    "\n",
    "\n",
    "import os\n",
    "rows = []\n",
    "genres = ['westcoastrap', 'edm', 'classical', 'jazz', 'alternative']\n",
    "\n",
    "# coded this so currGenre must match name of the directory :/\n",
    "\n",
    "for currGenre in genres:\n",
    "    for filename in os.listdir(currGenre):\n",
    "        #get song\n",
    "        audio_path = currGenre + '/' + filename\n",
    "        print(audio_path)\n",
    "        x , sr = librosa.load(audio_path, sr=44100)\n",
    "\n",
    "        # 1 number of zero crossings\n",
    "        zero_crossings = np.mean(librosa.zero_crossings(x))\n",
    "\n",
    "        #2 spectral centroid\n",
    "        spectral_centroids = np.mean(librosa.feature.spectral_centroid(x, sr=sr))\n",
    "\n",
    "        #3 chroma\n",
    "        chroma_stft = np.mean(librosa.feature.chroma_stft(x, sr=sr))\n",
    "\n",
    "\n",
    "        #4 spectral bandwidth\n",
    "        spec_bw = np.mean(librosa.feature.spectral_bandwidth(y=x, sr=sr))\n",
    "\n",
    "\n",
    "        #mfcc\n",
    "        mfcc = librosa.feature.mfcc(y=x, sr=sr)\n",
    "        \n",
    "        mfcc_arr = []\n",
    "        for e in mfcc:\n",
    "            mfcc_arr.append(np.mean(e))\n",
    "        \n",
    "\n",
    "        rows.append([filename, currGenre, zero_crossings, spec_bw, spectral_centroids, chroma_stft] + mfcc_arr)\n",
    "    "
   ]
  },
  {
   "cell_type": "code",
   "execution_count": null,
   "metadata": {},
   "outputs": [],
   "source": [
    "import csv\n",
    "    \n",
    "#put data in csv file\n",
    "with open('newdata.csv', 'wt') as csvfile:\n",
    "    csv_writer = csv.writer(csvfile)\n",
    "     \n",
    "    csv_writer.writerow(['song name', 'genre', 'zero crossing rate', 'spectral bandwidth', 'spectral centroid', 'chroma'] + msfcc_names)\n",
    "     \n",
    "    for row in rows:\n",
    "        csv_writer.writerow(row)\n",
    "        "
   ]
  },
  {
   "cell_type": "code",
   "execution_count": null,
   "metadata": {},
   "outputs": [],
   "source": []
  }
 ],
 "metadata": {
  "kernelspec": {
   "display_name": "Python 3",
   "language": "python",
   "name": "python3"
  },
  "language_info": {
   "codemirror_mode": {
    "name": "ipython",
    "version": 3
   },
   "file_extension": ".py",
   "mimetype": "text/x-python",
   "name": "python",
   "nbconvert_exporter": "python",
   "pygments_lexer": "ipython3",
   "version": "3.6.5"
  }
 },
 "nbformat": 4,
 "nbformat_minor": 2
}
