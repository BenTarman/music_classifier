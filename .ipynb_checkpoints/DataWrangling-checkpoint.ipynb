{
 "cells": [
  {
   "cell_type": "markdown",
   "metadata": {},
   "source": [
    "<h2>Loading Librosa for single mp3 analysis</h2>\n",
    "Can change the file to process by changing audio_path"
   ]
  },
  {
   "cell_type": "code",
   "execution_count": null,
   "metadata": {},
   "outputs": [],
   "source": [
    "import librosa\n",
    "%matplotlib inline\n",
    "import matplotlib.pyplot as plt\n",
    "import librosa.display\n",
    "import numpy as np\n",
    "\n",
    "audio_path = 'edm/born_mitiS.mp3'\n",
    "x , sr = librosa.load(audio_path, sr=44100)\n",
    "\n",
    "print(type(x), type(sr))\n",
    "\n",
    "print(x.shape, sr)"
   ]
  },
  {
   "cell_type": "markdown",
   "metadata": {},
   "source": [
    "<h2>Mel Spectrogram</h2>\n",
    "\n",
    "The first visualization used was a spectrogram, which aids in visualizing the the spectrums of frequencies in a song over time as well as its volume in decibels. The frequencies were converted using the mel-scale, which is standard in music visualization (therefore making these mel-spectrograms)."
   ]
  },
  {
   "cell_type": "code",
   "execution_count": null,
   "metadata": {},
   "outputs": [],
   "source": [
    "S = librosa.feature.melspectrogram(y=x, sr=sr, n_mels=128,\n",
    "                                  fmax=8000)\n",
    "plt.figure(figsize=(10, 4))\n",
    "librosa.display.specshow(librosa.power_to_db(S,                                              ref=np.max),\n",
    "                      y_axis='mel', fmax=8000,\n",
    "                      x_axis='time')\n",
    "plt.colorbar(format='%+2.0f dB')\n",
    "plt.title('Dr. Dre - Still D.R.E. (Rap)')\n",
    "plt.tight_layout()\n"
   ]
  },
  {
   "cell_type": "markdown",
   "metadata": {},
   "source": [
    "<h2>Spectral Centroid</h2>\n",
    "\n",
    "The spectral centroid indicates the centre of gravity of the audio spectrum. This gives the brightness of a sound. A high spectral centroid value will correspond with brighter textures and higher frequencies."
   ]
  },
  {
   "cell_type": "code",
   "execution_count": null,
   "metadata": {},
   "outputs": [],
   "source": [
    "#spectral centroid\n",
    "from sklearn import preprocessing\n",
    "import numpy as np\n",
    "spectral_centroidzzz = librosa.feature.spectral_centroid(x, sr=sr)[0]\n",
    "\n",
    "spectral_centroidzzz = np.reshape(spectral_centroidzzz, (-1, 1))\n",
    "\n",
    "frames = range(len(spectral_centroidzzz))\n",
    "time = librosa.frames_to_time(frames)\n",
    "\n",
    "fig =plt.figure()\n",
    "fig.suptitle('MitiS - Born (EDM)')\n",
    "#plot spectral centroid\n",
    "idx = int(4e6)\n",
    "librosa.display.waveplot(x[:idx], sr=sr, alpha=0.4)\n",
    "\n",
    "\n",
    "plt.plot(time[:idx], preprocessing.minmax_scale(spectral_centroidzzz)[:idx], color='r')\n",
    "\n",
    "#print(np.mean(spectral_centroidzzz))"
   ]
  },
  {
   "cell_type": "markdown",
   "metadata": {},
   "source": [
    "<h2>Chroma Frequencies</h2>\n",
    "‘Chroma Frequencies’ partitions the audio wave into discrete chromatic keys (12 note scale). Extracting this feature helps describe things such as chord progressions and over all keys of the song."
   ]
  },
  {
   "cell_type": "code",
   "execution_count": null,
   "metadata": {},
   "outputs": [],
   "source": [
    "#CHROMA FREQUENCIES\n",
    "\n",
    "x_harm = librosa.effects.harmonic(y=x, margin=8)\n",
    "\n",
    "#smooth local neaightest neibhor\n",
    "chroma_os_harm = librosa.feature.chroma_cqt(y=x_harm, sr=sr, bins_per_octave=12*3)\n",
    "\n",
    "#filter harmonic transients\n",
    "chroma_filter = np.minimum(chroma_os_harm,\n",
    "                           librosa.decompose.nn_filter(chroma_os_harm,\n",
    "                                                       aggregate=np.median,\n",
    "                                                       metric='cosine'))\n",
    "\n",
    "#zoom in only section of song\n",
    "idx = tuple([slice(None), slice(*list(librosa.time_to_frames([45, 120])))])\n",
    "\n",
    "\n",
    "\n",
    "fig =plt.figure()\n",
    "fig.suptitle('Pachelbel''s Canon in D (Classical)')\n",
    "\n",
    "\n",
    "librosa.display.specshow(chroma_filter[idx], y_axis='chroma', x_axis='time')\n",
    "plt.colorbar()\n",
    "plt.ylabel('Notes')\n"
   ]
  },
  {
   "cell_type": "markdown",
   "metadata": {},
   "source": [
    "<h2>Mel-Frequency Cepstral Coefficients (MFCCs).</h2>\n",
    "This is a representation of the short-term power spectrum of a sound. It is similar to chroma frequencies in that it classifies the “note” of a sound but adds more texture information instead of completely discretizing the sound. It was originally used for speech recognition but other research has used mfccs in combination with choma frequencies to classify music and we will do the same"
   ]
  },
  {
   "cell_type": "code",
   "execution_count": null,
   "metadata": {},
   "outputs": [],
   "source": [
    "#MFCCS\n",
    "\n",
    "mfccs = librosa.feature.mfcc(x, sr=sr)\n",
    "print(mfccs.shape)\n",
    "\n",
    "#Displaying  the MFCCs:\n",
    "\n",
    "fig =plt.figure()\n",
    "fig.suptitle('MitiS - Born (EDM)')\n",
    "\n",
    "\n",
    "librosa.display.specshow(mfccs, sr=sr, x_axis='time')\n",
    "plt.colorbar(format='%+2.0f Hz')"
   ]
  },
  {
   "cell_type": "markdown",
   "metadata": {},
   "source": [
    "<h2>Zero Crossing</h2>\n",
    "Zero Crossing Rate just counts the number of times the waveform crosses the origin at 0"
   ]
  },
  {
   "cell_type": "code",
   "execution_count": null,
   "metadata": {},
   "outputs": [],
   "source": [
    "zero_crossings = np.mean(librosa.zero_crossings(x))\n",
    "\n",
    "print(zero_crossings)"
   ]
  }
 ],
 "metadata": {
  "kernelspec": {
   "display_name": "Python 3",
   "language": "python",
   "name": "python3"
  },
  "language_info": {
   "codemirror_mode": {
    "name": "ipython",
    "version": 3
   },
   "file_extension": ".py",
   "mimetype": "text/x-python",
   "name": "python",
   "nbconvert_exporter": "python",
   "pygments_lexer": "ipython3",
   "version": "3.5.3"
  }
 },
 "nbformat": 4,
 "nbformat_minor": 2
}
