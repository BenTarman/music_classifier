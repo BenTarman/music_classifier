{
 "cells": [
  {
   "cell_type": "code",
   "execution_count": 1,
   "metadata": {},
   "outputs": [],
   "source": [
    "import librosa"
   ]
  },
  {
   "cell_type": "code",
   "execution_count": 2,
   "metadata": {},
   "outputs": [
    {
     "name": "stdout",
     "output_type": "stream",
     "text": [
      "edm/clarity_zedd.mp3\n",
      "edm/A R I Z O N A - I Was Wrong.mp3\n",
      "edm/Stephen - Crossfire.mp3\n",
      "edm/Flight Facilities - Crave You (Adventure Club Dubstep Remix).mp3\n",
      "edm/Uppermost - Beautiful Light.mp3\n",
      "edm/born_mitiS.mp3\n",
      "edm/shootingStars_bagRaiders.mp3\n",
      "edm/AViVA - GRRRLS.mp3\n",
      "edm/OceanBlue_WRLD.mp3\n",
      "edm/TroyBoi - On My Own (feat. Nefera).mp3\n",
      "edm/Crywolf - Eyes Half Closed.mp3\n",
      "edm/Vanic X K.Flay - Cops.mp3\n",
      "edm/Flume - Say It (feat. Tove Lo) (Illenium Remix).mp3\n",
      "edm/Lauv - The Other (Official Lyric Video).mp3\n",
      "edm/flicker_porterRobinson.mp3\n",
      "edm/OMFG - I Love You.mp3\n",
      "edm/Allie X - Paper Love.mp3\n",
      "edm/Stephen - Play Me Like A Violin.mp3\n",
      "edm/Oh Wonder - Technicolour Beat.mp3\n",
      "edm/Coldplay - Midnight (Kygo Remix).mp3\n",
      "classical/Franz Liszt - Liebestraum - Love Dream.mp3\n",
      "classical/pachelbel's Canon in D--Soothing music(the best version).mp3\n",
      "classical/rachmaninov-prelude-in-c-sharp-minor-youtubemp3free.org.mp3\n",
      "classical/Vivaldi Concerto for 4 Violins in B minor RV 580.mp3\n",
      "classical/Spring. Antonio Vivaldi.mp3\n",
      "classical/chopin-nocturne-op9-no2-youtubemp3free.org.mp3\n",
      "classical/Ravel Miroirs III. Une Barque sur L'Ocean (André Laplante).mp3\n",
      "classical/Beethoven - Symphony No.7 in A major op.92 - II, Allegretto.mp3\n",
      "classical/P. Tchaikovsky - Pas de Deux ('The Nutcracker').mp3\n",
      "classical/claude-debussy-clair-de-lune-youtubemp3free.org.mp3\n",
      "classical/Dmitri Shostakovich Jazz Suite, Waltz No. 2.mp3\n",
      "classical/colorful-orchestra-rebellion-youtubemp3free.org.mp3\n",
      "classical/Rachmaninoff - Piano Concerto No. 2, Op. 18 I. Moderato (Rubinstein).mp3\n",
      "classical/Handel - Largo (from 'Xerxes') Opera.mp3\n",
      "classical/norihiro-tsuru-last-carnival-acoustic-cafe-youtubemp3free.org.mp3\n",
      "classical/Erik Satie - Gnossienne No.1.mp3\n",
      "classical/Schubert - Serenade.mp3\n",
      "classical/Satie - Je te veux.mp3\n",
      "classical/Tchaikovsky - Valse Sentimentale.mp3\n",
      "classical/johann-sebastian-bachair-on-g-string-youtubemp3free.org.mp3\n",
      "classical/Beethoven-Fur Elise.mp3\n",
      "jazz/Hiroshi Suzuki-Romance.mp3\n",
      "jazz/BART HOWARD (fly me to the moon).mp3\n",
      "jazz/Miles Davis - Milestones (Audio).mp3\n",
      "jazz/Summertime George Gershwin 1935 Tenor Sax.mp3\n",
      "jazz/Blue in Green by. Miles Davis.mp3\n",
      "jazz/Jazz Piano Beegie Adair - Moon River ( Henry Mancini - Johnny Mercer ).mp3\n",
      "jazz/John Cameron - Liquid Sunshine - 1973 [Library Music].mp3\n",
      "jazz/Chet Baker - Tenderly.mp3\n",
      "jazz/All of Me Instrumental.mp3\n",
      "jazz/Ryo Fukui - It Could Happen To You.mp3\n",
      "jazz/Autumn Leaves By Joseph Kosma, Johnny Mercer and Jacques Prevert.mp3\n",
      "jazz/bill-evans-waltz-for-debby-youtubemp3free.org.mp3\n",
      "jazz/Someday My Prince Will ComeBill Evans Trio (1960) Public domain.mp3\n",
      "jazz/Ryo Fukui (Voyage).mp3\n",
      "jazz/Ryo Fukui (福居良) - Scenery (1976).mp3\n",
      "jazz/Duke Ellington and his orchestra.- Satin Doll (HD).mp3\n",
      "jazz/Cowboy Bebop OST 1 - Rush.mp3\n",
      "jazz/Jiro Inagaki & Soul Media - Breeze - 1974.mp3\n",
      "jazz/東方 Piano JazzSatellite Café Terrace #4- tanigon.mp3\n",
      "jazz/Bill Evans - The Two Lonely People.mp3\n",
      "alternative/Silversun Pickups - Lazy Eye (Official Video).mp3\n",
      "alternative/Arctic Monkeys - Teddy Picker (Official Video).mp3\n",
      "alternative/The Arcade Fire - Wake Up.mp3\n",
      "alternative/Asian Kung-Fu Generation - Rewrite (Video Clip).mp3\n",
      "alternative/Asian Kung-Fu Generation - Haruka Kanata (Video Clip).mp3\n",
      "alternative/Eagle-Eye Cherry - Save Tonight.mp3\n",
      "alternative/Foo Fighters - Everlong.mp3\n",
      "alternative/Radiohead - Paranoid Android.mp3\n",
      "alternative/SicTransitGloria_BrandNew.mp3\n",
      "alternative/Coheed and Cambria Neverender.mp3\n",
      "alternative/Goo Goo Dolls - Slide [Official Music Video].mp3\n",
      "alternative/Smashing Pumpkins - Mayonaise.mp3\n",
      "alternative/Gin Blossoms - Hey Jealousy.mp3\n",
      "alternative/Red Hot Chili Peppers - Otherside [Official Music Video].mp3\n",
      "alternative/Rise Against - Savior (Official Video).mp3\n",
      "alternative/Smashing Pumpkins - 1979.mp3\n",
      "alternative/Red Hot Chili Peppers - Dark Necessities [OFFICIAL VIDEO].mp3\n",
      "alternative/The Strokes - Reptilia (Official Music Video).mp3\n",
      "alternative/Nirvana-Lithium Lyrics(HD).mp3\n",
      "alternative/Oasis - Wonderwall (Official Video).mp3\n"
     ]
    }
   ],
   "source": [
    "import numpy as np\n",
    "import csv\n",
    "import librosa\n",
    "\n",
    "\n",
    "\n",
    "import os\n",
    "rows = []\n",
    "genres = ['edm', 'classical', 'jazz', 'alternative']\n",
    "\n",
    "# coded this so currGenre must match name of the directory :/\n",
    "\n",
    "for currGenre in genres:\n",
    "    for filename in os.listdir(currGenre):\n",
    "        #get song\n",
    "        audio_path = currGenre + '/' + filename\n",
    "        print(audio_path)\n",
    "        x , sr = librosa.load(audio_path, sr=44100)\n",
    "\n",
    "        # 1 number of zero crossings\n",
    "        zero_crossings = np.mean(librosa.zero_crossings(x))\n",
    "\n",
    "        #2 spectral centroid\n",
    "        spectral_centroids = np.mean(librosa.feature.spectral_centroid(x, sr=sr))\n",
    "\n",
    "        #3 chroma\n",
    "        chroma_stft = np.mean(librosa.feature.chroma_stft(x, sr=sr))\n",
    "\n",
    "\n",
    "        #4 spectral bandwidth\n",
    "        spec_bw = np.mean(librosa.feature.spectral_bandwidth(y=x, sr=sr))\n",
    "\n",
    "\n",
    "        #mfcc\n",
    "        mfcc = np.mean(librosa.feature.mfcc(y=x, sr=sr))\n",
    "\n",
    "        rows.append([zero_crossings, spec_bw, spectral_centroids, chroma_stft])\n",
    "\n",
    "#put data in csv file\n",
    "with open('data.csv', 'wt') as csvfile:\n",
    "    csv_writer = csv.writer(csvfile)\n",
    " \n",
    "    csv_writer.writerow(['zero crossing rate', 'spectral bandwidth', 'spectral centroid', 'chroma'])\n",
    " \n",
    "    for row in rows:\n",
    "        csv_writer.writerow(row)\n",
    "        \n",
    "        "
   ]
  },
  {
   "cell_type": "code",
   "execution_count": null,
   "metadata": {},
   "outputs": [],
   "source": [
    "import pandas as pd\n",
    "%matplotlib inline\n",
    "import matplotlib.pyplot as plt\n",
    "\n",
    "data = pd.read_csv('data.csv')\n",
    "data"
   ]
  },
  {
   "cell_type": "code",
   "execution_count": 45,
   "metadata": {},
   "outputs": [
    {
     "name": "stdout",
     "output_type": "stream",
     "text": [
      "[[ 0 68 44 79]]\n",
      "[[  0.         105.60454207 152.64659707 203.22113349]]\n"
     ]
    }
   ],
   "source": [
    "from sklearn.neighbors import KDTree\n",
    "\n",
    "arr = np.array(data.values)\n",
    "\n",
    "tree = KDTree(arr)\n",
    "\n",
    "# r = 1.5 (means radius 1.5)\n",
    "dist, ind = tree.query(arr[:1], k=4)\n",
    "print(ind)  # indices of 2 closest neighbors\n",
    "print(dist)  # distances to 2 closest neighbors"
   ]
  },
  {
   "cell_type": "code",
   "execution_count": 4,
   "metadata": {},
   "outputs": [
    {
     "ename": "ValueError",
     "evalue": "could not convert string to float: 'alternative'",
     "output_type": "error",
     "traceback": [
      "\u001b[0;31m---------------------------------------------------------------------------\u001b[0m",
      "\u001b[0;31mValueError\u001b[0m                                Traceback (most recent call last)",
      "\u001b[0;32m<ipython-input-4-55e4a61c6f31>\u001b[0m in \u001b[0;36m<module>\u001b[0;34m\u001b[0m\n\u001b[1;32m     17\u001b[0m     \u001b[0mfig\u001b[0m \u001b[0;34m=\u001b[0m \u001b[0mplt\u001b[0m\u001b[0;34m.\u001b[0m\u001b[0mfigure\u001b[0m\u001b[0;34m(\u001b[0m\u001b[0mfignum\u001b[0m\u001b[0;34m,\u001b[0m \u001b[0mfigsize\u001b[0m\u001b[0;34m=\u001b[0m\u001b[0;34m(\u001b[0m\u001b[0;36m4\u001b[0m\u001b[0;34m,\u001b[0m \u001b[0;36m3\u001b[0m\u001b[0;34m)\u001b[0m\u001b[0;34m)\u001b[0m\u001b[0;34m\u001b[0m\u001b[0m\n\u001b[1;32m     18\u001b[0m     \u001b[0max\u001b[0m \u001b[0;34m=\u001b[0m \u001b[0mAxes3D\u001b[0m\u001b[0;34m(\u001b[0m\u001b[0mfig\u001b[0m\u001b[0;34m,\u001b[0m \u001b[0mrect\u001b[0m\u001b[0;34m=\u001b[0m\u001b[0;34m[\u001b[0m\u001b[0;36m0\u001b[0m\u001b[0;34m,\u001b[0m \u001b[0;36m0\u001b[0m\u001b[0;34m,\u001b[0m \u001b[0;36m.95\u001b[0m\u001b[0;34m,\u001b[0m \u001b[0;36m1\u001b[0m\u001b[0;34m]\u001b[0m\u001b[0;34m,\u001b[0m \u001b[0melev\u001b[0m\u001b[0;34m=\u001b[0m\u001b[0;36m48\u001b[0m\u001b[0;34m,\u001b[0m \u001b[0mazim\u001b[0m\u001b[0;34m=\u001b[0m\u001b[0;36m134\u001b[0m\u001b[0;34m)\u001b[0m\u001b[0;34m\u001b[0m\u001b[0m\n\u001b[0;32m---> 19\u001b[0;31m     \u001b[0mest\u001b[0m\u001b[0;34m.\u001b[0m\u001b[0mfit\u001b[0m\u001b[0;34m(\u001b[0m\u001b[0mdata\u001b[0m\u001b[0;34m)\u001b[0m\u001b[0;34m\u001b[0m\u001b[0m\n\u001b[0m\u001b[1;32m     20\u001b[0m     \u001b[0mlabels\u001b[0m \u001b[0;34m=\u001b[0m \u001b[0mest\u001b[0m\u001b[0;34m.\u001b[0m\u001b[0mlabels_\u001b[0m\u001b[0;34m\u001b[0m\u001b[0m\n\u001b[1;32m     21\u001b[0m \u001b[0;34m\u001b[0m\u001b[0m\n",
      "\u001b[0;32m~/music_classifier/venv/lib/python3.5/site-packages/sklearn/cluster/k_means_.py\u001b[0m in \u001b[0;36mfit\u001b[0;34m(self, X, y, sample_weight)\u001b[0m\n\u001b[1;32m    969\u001b[0m                 \u001b[0mtol\u001b[0m\u001b[0;34m=\u001b[0m\u001b[0mself\u001b[0m\u001b[0;34m.\u001b[0m\u001b[0mtol\u001b[0m\u001b[0;34m,\u001b[0m \u001b[0mrandom_state\u001b[0m\u001b[0;34m=\u001b[0m\u001b[0mrandom_state\u001b[0m\u001b[0;34m,\u001b[0m \u001b[0mcopy_x\u001b[0m\u001b[0;34m=\u001b[0m\u001b[0mself\u001b[0m\u001b[0;34m.\u001b[0m\u001b[0mcopy_x\u001b[0m\u001b[0;34m,\u001b[0m\u001b[0;34m\u001b[0m\u001b[0m\n\u001b[1;32m    970\u001b[0m                 \u001b[0mn_jobs\u001b[0m\u001b[0;34m=\u001b[0m\u001b[0mself\u001b[0m\u001b[0;34m.\u001b[0m\u001b[0mn_jobs\u001b[0m\u001b[0;34m,\u001b[0m \u001b[0malgorithm\u001b[0m\u001b[0;34m=\u001b[0m\u001b[0mself\u001b[0m\u001b[0;34m.\u001b[0m\u001b[0malgorithm\u001b[0m\u001b[0;34m,\u001b[0m\u001b[0;34m\u001b[0m\u001b[0m\n\u001b[0;32m--> 971\u001b[0;31m                 return_n_iter=True)\n\u001b[0m\u001b[1;32m    972\u001b[0m         \u001b[0;32mreturn\u001b[0m \u001b[0mself\u001b[0m\u001b[0;34m\u001b[0m\u001b[0m\n\u001b[1;32m    973\u001b[0m \u001b[0;34m\u001b[0m\u001b[0m\n",
      "\u001b[0;32m~/music_classifier/venv/lib/python3.5/site-packages/sklearn/cluster/k_means_.py\u001b[0m in \u001b[0;36mk_means\u001b[0;34m(X, n_clusters, sample_weight, init, precompute_distances, n_init, max_iter, verbose, tol, random_state, copy_x, n_jobs, algorithm, return_n_iter)\u001b[0m\n\u001b[1;32m    309\u001b[0m     \u001b[0morder\u001b[0m \u001b[0;34m=\u001b[0m \u001b[0;34m\"C\"\u001b[0m \u001b[0;32mif\u001b[0m \u001b[0mcopy_x\u001b[0m \u001b[0;32melse\u001b[0m \u001b[0;32mNone\u001b[0m\u001b[0;34m\u001b[0m\u001b[0m\n\u001b[1;32m    310\u001b[0m     X = check_array(X, accept_sparse='csr', dtype=[np.float64, np.float32],\n\u001b[0;32m--> 311\u001b[0;31m                     order=order, copy=copy_x)\n\u001b[0m\u001b[1;32m    312\u001b[0m     \u001b[0;31m# verify that the number of samples given is larger than k\u001b[0m\u001b[0;34m\u001b[0m\u001b[0;34m\u001b[0m\u001b[0m\n\u001b[1;32m    313\u001b[0m     \u001b[0;32mif\u001b[0m \u001b[0m_num_samples\u001b[0m\u001b[0;34m(\u001b[0m\u001b[0mX\u001b[0m\u001b[0;34m)\u001b[0m \u001b[0;34m<\u001b[0m \u001b[0mn_clusters\u001b[0m\u001b[0;34m:\u001b[0m\u001b[0;34m\u001b[0m\u001b[0m\n",
      "\u001b[0;32m~/music_classifier/venv/lib/python3.5/site-packages/sklearn/utils/validation.py\u001b[0m in \u001b[0;36mcheck_array\u001b[0;34m(array, accept_sparse, accept_large_sparse, dtype, order, copy, force_all_finite, ensure_2d, allow_nd, ensure_min_samples, ensure_min_features, warn_on_dtype, estimator)\u001b[0m\n\u001b[1;32m    525\u001b[0m             \u001b[0;32mtry\u001b[0m\u001b[0;34m:\u001b[0m\u001b[0;34m\u001b[0m\u001b[0m\n\u001b[1;32m    526\u001b[0m                 \u001b[0mwarnings\u001b[0m\u001b[0;34m.\u001b[0m\u001b[0msimplefilter\u001b[0m\u001b[0;34m(\u001b[0m\u001b[0;34m'error'\u001b[0m\u001b[0;34m,\u001b[0m \u001b[0mComplexWarning\u001b[0m\u001b[0;34m)\u001b[0m\u001b[0;34m\u001b[0m\u001b[0m\n\u001b[0;32m--> 527\u001b[0;31m                 \u001b[0marray\u001b[0m \u001b[0;34m=\u001b[0m \u001b[0mnp\u001b[0m\u001b[0;34m.\u001b[0m\u001b[0masarray\u001b[0m\u001b[0;34m(\u001b[0m\u001b[0marray\u001b[0m\u001b[0;34m,\u001b[0m \u001b[0mdtype\u001b[0m\u001b[0;34m=\u001b[0m\u001b[0mdtype\u001b[0m\u001b[0;34m,\u001b[0m \u001b[0morder\u001b[0m\u001b[0;34m=\u001b[0m\u001b[0morder\u001b[0m\u001b[0;34m)\u001b[0m\u001b[0;34m\u001b[0m\u001b[0m\n\u001b[0m\u001b[1;32m    528\u001b[0m             \u001b[0;32mexcept\u001b[0m \u001b[0mComplexWarning\u001b[0m\u001b[0;34m:\u001b[0m\u001b[0;34m\u001b[0m\u001b[0m\n\u001b[1;32m    529\u001b[0m                 raise ValueError(\"Complex data not supported\\n\"\n",
      "\u001b[0;32m~/music_classifier/venv/lib/python3.5/site-packages/numpy/core/numeric.py\u001b[0m in \u001b[0;36masarray\u001b[0;34m(a, dtype, order)\u001b[0m\n\u001b[1;32m    536\u001b[0m \u001b[0;34m\u001b[0m\u001b[0m\n\u001b[1;32m    537\u001b[0m     \"\"\"\n\u001b[0;32m--> 538\u001b[0;31m     \u001b[0;32mreturn\u001b[0m \u001b[0marray\u001b[0m\u001b[0;34m(\u001b[0m\u001b[0ma\u001b[0m\u001b[0;34m,\u001b[0m \u001b[0mdtype\u001b[0m\u001b[0;34m,\u001b[0m \u001b[0mcopy\u001b[0m\u001b[0;34m=\u001b[0m\u001b[0;32mFalse\u001b[0m\u001b[0;34m,\u001b[0m \u001b[0morder\u001b[0m\u001b[0;34m=\u001b[0m\u001b[0morder\u001b[0m\u001b[0;34m)\u001b[0m\u001b[0;34m\u001b[0m\u001b[0m\n\u001b[0m\u001b[1;32m    539\u001b[0m \u001b[0;34m\u001b[0m\u001b[0m\n\u001b[1;32m    540\u001b[0m \u001b[0;34m\u001b[0m\u001b[0m\n",
      "\u001b[0;31mValueError\u001b[0m: could not convert string to float: 'alternative'"
     ]
    },
    {
     "data": {
      "image/png": "[encoded data removed]",
      "text/plain": [
       "<Figure size 288x216 with 1 Axes>"
      ]
     },
     "metadata": {
      "needs_background": "light"
     },
     "output_type": "display_data"
    }
   ],
   "source": [
    "from sklearn.metrics import silhouette_samples, silhouette_score\n",
    "from mpl_toolkits.mplot3d import Axes3D\n",
    "from mpl_toolkits.mplot3d import Axes3D\n",
    "from sklearn.cluster import KMeans\n",
    "\n",
    "\n",
    "estimators = [KMeans(2), KMeans(3), KMeans(4), KMeans(5), KMeans(6), KMeans(7)\n",
    "             , KMeans(8), KMeans(9), KMeans(10)]\n",
    "\n",
    "titles = ['2 clusters', '3 clusters', '4 clusters', '5 clusters', '6 clusters',\n",
    "         '7 clusters', '8 clusters', '9 clusters', '10 clusters']\n",
    "\n",
    "sillhouette_scores = []\n",
    "\n",
    "fignum = 1\n",
    "for est, title in zip(estimators, titles):\n",
    "    fig = plt.figure(fignum, figsize=(4, 3))\n",
    "    ax = Axes3D(fig, rect=[0, 0, .95, 1], elev=48, azim=134)\n",
    "    est.fit(data)\n",
    "    labels = est.labels_\n",
    "    \n",
    "    silhouette_avg = silhouette_score(data, labels)\n",
    "  \n",
    "    sillhouette_scores.append(silhouette_avg)\n",
    "    \n",
    "    # Compute the silhouette scores for each sample\n",
    "    #sample_silhouette_values = silhouette_samples(X, labels)\n",
    "\n",
    "    ax.scatter(data['zero crossing rate'], data['chroma'], data['spectral bandwidth'],\n",
    "               c=labels.astype(np.float), edgecolor='k')\n",
    "    \n",
    "    #hide ticks cause annoying\n",
    "    ax.w_xaxis.set_ticklabels([])\n",
    "    ax.w_yaxis.set_ticklabels([])\n",
    "    ax.w_zaxis.set_ticklabels([])\n",
    "    ax.set_xlabel('zero crossing rate')\n",
    "    ax.set_ylabel('chroma')\n",
    "    ax.set_zlabel('spectral bandwidth')\n",
    "    ax.set_title(title)\n",
    "    ax.dist = 13\n",
    "    fignum = fignum + 1\n"
   ]
  }
 ],
 "metadata": {
  "kernelspec": {
   "display_name": "Python 3",
   "language": "python",
   "name": "python3"
  },
  "language_info": {
   "codemirror_mode": {
    "name": "ipython",
    "version": 3
   },
   "file_extension": ".py",
   "mimetype": "text/x-python",
   "name": "python",
   "nbconvert_exporter": "python",
   "pygments_lexer": "ipython3",
   "version": "3.5.3"
  }
 },
 "nbformat": 4,
 "nbformat_minor": 2
}
